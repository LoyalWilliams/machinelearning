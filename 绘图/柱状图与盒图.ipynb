{
 "cells": [
  {
   "cell_type": "code",
   "execution_count": 19,
   "metadata": {},
   "outputs": [
    {
     "name": "stdout",
     "output_type": "stream",
     "text": [
      "PassengerId      int64\n",
      "Survived         int64\n",
      "Pclass           int64\n",
      "Name            object\n",
      "Sex             object\n",
      "Age            float64\n",
      "SibSp            int64\n",
      "Parch            int64\n",
      "Ticket          object\n",
      "Fare           float64\n",
      "Cabin           object\n",
      "Embarked        object\n",
      "dtype: object\n",
      "Index(['Age', 'Fare'], dtype='object')\n"
     ]
    },
    {
     "name": "stderr",
     "output_type": "stream",
     "text": [
      "D:\\ml\\Anaconda3\\lib\\site-packages\\numpy\\lib\\function_base.py:4274: RuntimeWarning: Invalid value encountered in percentile\n",
      "  interpolation=interpolation)\n",
      "D:\\ml\\Anaconda3\\lib\\site-packages\\matplotlib\\cbook\\__init__.py:1857: RuntimeWarning: invalid value encountered in less_equal\n",
      "  wiskhi = np.compress(x <= hival, x)\n",
      "D:\\ml\\Anaconda3\\lib\\site-packages\\matplotlib\\cbook\\__init__.py:1864: RuntimeWarning: invalid value encountered in greater_equal\n",
      "  wisklo = np.compress(x >= loval, x)\n",
      "D:\\ml\\Anaconda3\\lib\\site-packages\\matplotlib\\cbook\\__init__.py:1872: RuntimeWarning: invalid value encountered in less\n",
      "  np.compress(x < stats['whislo'], x),\n",
      "D:\\ml\\Anaconda3\\lib\\site-packages\\matplotlib\\cbook\\__init__.py:1873: RuntimeWarning: invalid value encountered in greater\n",
      "  np.compress(x > stats['whishi'], x)\n"
     ]
    },
    {
     "data": {
      "image/png": "[encoded data removed]",
      "text/plain": [
       "<matplotlib.figure.Figure at 0xba45eb8>"
      ]
     },
     "metadata": {},
     "output_type": "display_data"
    }
   ],
   "source": [
    "import pandas as pd\n",
    "import matplotlib.pyplot as plt\n",
    "from numpy import arange\n",
    "\n",
    "titanic_survival=pd.read_csv(\"titanic_train.csv\")\n",
    "titanic_survival.head()\n",
    "\n",
    "#先求类型为float64所在的列\n",
    "types=titanic_survival.dtypes\n",
    "print(types)\n",
    "float_columns=types[types.values == 'float64'].index\n",
    "print(float_columns)\n",
    "float_df=titanic_survival[float_columns]\n",
    "\n",
    "#柱子的高度\n",
    "bar_heights=float_df.loc[0,float_columns].values\n",
    "# print(bar_heights)\n",
    "\n",
    "#柱子中心离原点的距离\n",
    "bar_positions=arange(2)+0.75\n",
    "# print(bar_positions)\n",
    "# print(float_df)\n",
    "fig, ax=plt.subplots()\n",
    "# ax.hist(float_df['Age'].values)#直方图\n",
    "ax.boxplot(float_df['Age'].values)#盒图\n",
    "plt.show()"
   ]
  },
  {
   "cell_type": "code",
   "execution_count": null,
   "metadata": {
    "collapsed": true
   },
   "outputs": [],
   "source": []
  },
  {
   "cell_type": "code",
   "execution_count": null,
   "metadata": {
    "collapsed": true
   },
   "outputs": [],
   "source": []
  }
 ],
 "metadata": {
  "kernelspec": {
   "display_name": "Python 3",
   "language": "python",
   "name": "python3"
  },
  "language_info": {
   "codemirror_mode": {
    "name": "ipython",
    "version": 3
   },
   "file_extension": ".py",
   "mimetype": "text/x-python",
   "name": "python",
   "nbconvert_exporter": "python",
   "pygments_lexer": "ipython3",
   "version": "3.6.3"
  }
 },
 "nbformat": 4,
 "nbformat_minor": 2
}
