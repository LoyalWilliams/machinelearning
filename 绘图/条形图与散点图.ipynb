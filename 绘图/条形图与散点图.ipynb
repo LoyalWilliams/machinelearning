{
 "cells": [
  {
   "cell_type": "code",
   "execution_count": 1,
   "metadata": {},
   "outputs": [
    {
     "data": {
      "text/html": [
       "<div>\n",
       "<style>\n",
       "    .dataframe thead tr:only-child th {\n",
       "        text-align: right;\n",
       "    }\n",
       "\n",
       "    .dataframe thead th {\n",
       "        text-align: left;\n",
       "    }\n",
       "\n",
       "    .dataframe tbody tr th {\n",
       "        vertical-align: top;\n",
       "    }\n",
       "</style>\n",
       "<table border=\"1\" class=\"dataframe\">\n",
       "  <thead>\n",
       "    <tr style=\"text-align: right;\">\n",
       "      <th></th>\n",
       "      <th>PassengerId</th>\n",
       "      <th>Survived</th>\n",
       "      <th>Pclass</th>\n",
       "      <th>Name</th>\n",
       "      <th>Sex</th>\n",
       "      <th>Age</th>\n",
       "      <th>SibSp</th>\n",
       "      <th>Parch</th>\n",
       "      <th>Ticket</th>\n",
       "      <th>Fare</th>\n",
       "      <th>Cabin</th>\n",
       "      <th>Embarked</th>\n",
       "    </tr>\n",
       "  </thead>\n",
       "  <tbody>\n",
       "    <tr>\n",
       "      <th>0</th>\n",
       "      <td>1</td>\n",
       "      <td>0</td>\n",
       "      <td>3</td>\n",
       "      <td>Braund, Mr. Owen Harris</td>\n",
       "      <td>male</td>\n",
       "      <td>22.0</td>\n",
       "      <td>1</td>\n",
       "      <td>0</td>\n",
       "      <td>A/5 21171</td>\n",
       "      <td>7.2500</td>\n",
       "      <td>NaN</td>\n",
       "      <td>S</td>\n",
       "    </tr>\n",
       "    <tr>\n",
       "      <th>1</th>\n",
       "      <td>2</td>\n",
       "      <td>1</td>\n",
       "      <td>1</td>\n",
       "      <td>Cumings, Mrs. John Bradley (Florence Briggs Th...</td>\n",
       "      <td>female</td>\n",
       "      <td>38.0</td>\n",
       "      <td>1</td>\n",
       "      <td>0</td>\n",
       "      <td>PC 17599</td>\n",
       "      <td>71.2833</td>\n",
       "      <td>C85</td>\n",
       "      <td>C</td>\n",
       "    </tr>\n",
       "    <tr>\n",
       "      <th>2</th>\n",
       "      <td>3</td>\n",
       "      <td>1</td>\n",
       "      <td>3</td>\n",
       "      <td>Heikkinen, Miss. Laina</td>\n",
       "      <td>female</td>\n",
       "      <td>26.0</td>\n",
       "      <td>0</td>\n",
       "      <td>0</td>\n",
       "      <td>STON/O2. 3101282</td>\n",
       "      <td>7.9250</td>\n",
       "      <td>NaN</td>\n",
       "      <td>S</td>\n",
       "    </tr>\n",
       "    <tr>\n",
       "      <th>3</th>\n",
       "      <td>4</td>\n",
       "      <td>1</td>\n",
       "      <td>1</td>\n",
       "      <td>Futrelle, Mrs. Jacques Heath (Lily May Peel)</td>\n",
       "      <td>female</td>\n",
       "      <td>35.0</td>\n",
       "      <td>1</td>\n",
       "      <td>0</td>\n",
       "      <td>113803</td>\n",
       "      <td>53.1000</td>\n",
       "      <td>C123</td>\n",
       "      <td>S</td>\n",
       "    </tr>\n",
       "    <tr>\n",
       "      <th>4</th>\n",
       "      <td>5</td>\n",
       "      <td>0</td>\n",
       "      <td>3</td>\n",
       "      <td>Allen, Mr. William Henry</td>\n",
       "      <td>male</td>\n",
       "      <td>35.0</td>\n",
       "      <td>0</td>\n",
       "      <td>0</td>\n",
       "      <td>373450</td>\n",
       "      <td>8.0500</td>\n",
       "      <td>NaN</td>\n",
       "      <td>S</td>\n",
       "    </tr>\n",
       "  </tbody>\n",
       "</table>\n",
       "</div>"
      ],
      "text/plain": [
       "   PassengerId  Survived  Pclass  \\\n",
       "0            1         0       3   \n",
       "1            2         1       1   \n",
       "2            3         1       3   \n",
       "3            4         1       1   \n",
       "4            5         0       3   \n",
       "\n",
       "                                                Name     Sex   Age  SibSp  \\\n",
       "0                            Braund, Mr. Owen Harris    male  22.0      1   \n",
       "1  Cumings, Mrs. John Bradley (Florence Briggs Th...  female  38.0      1   \n",
       "2                             Heikkinen, Miss. Laina  female  26.0      0   \n",
       "3       Futrelle, Mrs. Jacques Heath (Lily May Peel)  female  35.0      1   \n",
       "4                           Allen, Mr. William Henry    male  35.0      0   \n",
       "\n",
       "   Parch            Ticket     Fare Cabin Embarked  \n",
       "0      0         A/5 21171   7.2500   NaN        S  \n",
       "1      0          PC 17599  71.2833   C85        C  \n",
       "2      0  STON/O2. 3101282   7.9250   NaN        S  \n",
       "3      0            113803  53.1000  C123        S  \n",
       "4      0            373450   8.0500   NaN        S  "
      ]
     },
     "execution_count": 1,
     "metadata": {},
     "output_type": "execute_result"
    }
   ],
   "source": [
    "import numpy as np\n",
    "import pandas as pd\n",
    "titanic_survival=pd.read_csv(\"titanic_train.csv\")\n",
    "titanic_survival.head()"
   ]
  },
  {
   "cell_type": "code",
   "execution_count": 2,
   "metadata": {
    "scrolled": true
   },
   "outputs": [
    {
     "name": "stdout",
     "output_type": "stream",
     "text": [
      "Index(['Age', 'Fare'], dtype='object')\n"
     ]
    },
    {
     "data": {
      "image/png": "[encoded data removed]",
      "text/plain": [
       "<matplotlib.figure.Figure at 0x99bd048>"
      ]
     },
     "metadata": {},
     "output_type": "display_data"
    }
   ],
   "source": [
    "import matplotlib.pyplot as plt\n",
    "from numpy import arange\n",
    "#先求类型为float64所在的列，然后求这些列的标准差\n",
    "types=titanic_survival.dtypes\n",
    "# print(types)\n",
    "float_columns=types[types.values == 'float64'].index\n",
    "print(float_columns)\n",
    "float_df=titanic_survival[float_columns]\n",
    "\n",
    "#柱子的高度\n",
    "bar_heights=float_df.loc[0,float_columns].values\n",
    "# print(bar_heights)\n",
    "\n",
    "#柱子中心离原点的距离\n",
    "bar_positions=arange(2)+0.75\n",
    "# print(bar_positions)\n",
    "# print(float_df)\n",
    "fig, ax=plt.subplots()\n",
    "ax.bar(bar_positions,bar_heights,0.3)\n",
    "plt.show()"
   ]
  },
  {
   "cell_type": "code",
   "execution_count": 5,
   "metadata": {},
   "outputs": [
    {
     "name": "stdout",
     "output_type": "stream",
     "text": [
      "Index(['Age', 'Fare'], dtype='object')\n"
     ]
    },
    {
     "data": {
      "image/png": "[encoded data removed]",
      "text/plain": [
       "<matplotlib.figure.Figure at 0xa20d0f0>"
      ]
     },
     "metadata": {},
     "output_type": "display_data"
    }
   ],
   "source": [
    "import matplotlib.pyplot as plt\n",
    "from numpy import arange\n",
    "#先求类型为float64所在的列，然后求这些列的标准差\n",
    "types=titanic_survival.dtypes\n",
    "# print(types)\n",
    "float_columns=types[types.values == 'float64'].index\n",
    "print(float_columns)\n",
    "float_df=titanic_survival[float_columns]\n",
    "\n",
    "#柱子的高度\n",
    "bar_heights=float_df.loc[0,float_columns].values\n",
    "# print(bar_heights)\n",
    "\n",
    "#柱子中心离原点的距离\n",
    "bar_positions=arange(2)+0.75\n",
    "# print(bar_positions)\n",
    "# print(float_df)\n",
    "\n",
    "fig, ax=plt.subplots()\n",
    "ax.bar(bar_positions,bar_heights,0.3)\n",
    "# ax.barh(bar_positions,bar_heights,0.3)#横着画\n",
    "\n",
    "tick_positions=range(1,3)\n",
    "ax.set_xticks(tick_positions)\n",
    "ax.set_xticklabels(float_columns,rotation=45)\n",
    "\n",
    "ax.set_xlabel('source')\n",
    "ax.set_ylabel('Age/Fare')\n",
    "ax.set_title(\"Just a test\")\n",
    "plt.show()"
   ]
  },
  {
   "cell_type": "code",
   "execution_count": 36,
   "metadata": {},
   "outputs": [
    {
     "name": "stdout",
     "output_type": "stream",
     "text": [
      "Index(['Age', 'Fare'], dtype='object')\n"
     ]
    },
    {
     "data": {
      "image/png": "[encoded data removed]",
      "text/plain": [
       "<matplotlib.figure.Figure at 0xad06358>"
      ]
     },
     "metadata": {},
     "output_type": "display_data"
    }
   ],
   "source": [
    "#把对应的x坐标和y坐标进行修改，把ax.bar改为ax.barh，即可把竖着画的图形变成横着画\n",
    "import matplotlib.pyplot as plt\n",
    "from numpy import arange\n",
    "#先求类型为float64所在的列，然后求这些列的标准差\n",
    "types=titanic_survival.dtypes\n",
    "# print(types)\n",
    "float_columns=types[types.values == 'float64'].index\n",
    "print(float_columns)\n",
    "float_df=titanic_survival[float_columns]\n",
    "\n",
    "#柱子的高度\n",
    "bar_heights=float_df.loc[0,float_columns].values\n",
    "# print(bar_heights)\n",
    "\n",
    "#柱子中心离原点的距离\n",
    "bar_positions=arange(2)+0.75\n",
    "# print(bar_positions)\n",
    "# print(float_df)\n",
    "\n",
    "fig, ax=plt.subplots()\n",
    "# ax.bar(bar_positions,bar_heights,0.3)\n",
    "ax.barh(bar_positions,bar_heights,0.3)#横着画\n",
    "\n",
    "tick_positions=range(1,3)\n",
    "ax.set_yticks(tick_positions)\n",
    "ax.set_yticklabels(float_columns,rotation=45)\n",
    "\n",
    "ax.set_ylabel('source')\n",
    "ax.set_xlabel('Age/Fare')\n",
    "ax.set_title(\"Just a test\")\n",
    "plt.show()"
   ]
  },
  {
   "cell_type": "code",
   "execution_count": 46,
   "metadata": {},
   "outputs": [
    {
     "name": "stdout",
     "output_type": "stream",
     "text": [
      "Index(['Age', 'Fare'], dtype='object')\n"
     ]
    },
    {
     "data": {
      "image/png": "[encoded data removed]",
      "text/plain": [
       "<matplotlib.figure.Figure at 0xa6db8d0>"
      ]
     },
     "metadata": {},
     "output_type": "display_data"
    }
   ],
   "source": [
    "#把对应的x坐标和y坐标进行修改，把ax.bar改为ax.barh，即可把竖着画的图形变成横着画\n",
    "import matplotlib.pyplot as plt\n",
    "from numpy import arange\n",
    "#先求类型为float64所在的列，然后求这些列的标准差\n",
    "types=titanic_survival.dtypes\n",
    "# print(types)\n",
    "float_columns=types[types.values == 'float64'].index\n",
    "print(float_columns)\n",
    "float_df=titanic_survival[float_columns]\n",
    "\n",
    "#柱子的高度\n",
    "bar_heights=float_df.loc[0,float_columns].values\n",
    "# print(bar_heights)\n",
    "\n",
    "#柱子中心离原点的距离\n",
    "bar_positions=arange(2)+0.75\n",
    "# print(bar_positions)\n",
    "# print(float_df)\n",
    "\n",
    "fig, ax=plt.subplots()\n",
    "# ax.bar(bar_positions,bar_heights,0.3)\n",
    "ax.scatter(bar_positions,bar_heights,0.3)#横着画\n",
    "ax.scatter(np.random.randint(1,5,5),np.arange(5),c=\"r\")\n",
    "ax.scatter(np.random.randint(1,5,5),np.arange(5),c=\"b\")\n",
    "ax.scatter(np.random.randint(1,5,5),np.arange(5),c=\"g\")\n",
    "ax.scatter(np.random.randint(1,5,5),np.arange(5),c=\"y\")\n",
    "ax.scatter(np.random.randint(1,5,5),np.arange(5),c=\"r\")\n",
    "\n",
    "tick_positions=range(1,3)\n",
    "ax.set_yticks(tick_positions)\n",
    "ax.set_yticklabels(float_columns,rotation=45)\n",
    "\n",
    "ax.set_ylabel('source')\n",
    "ax.set_xlabel('Age/Fare')\n",
    "ax.set_title(\"Just a test\")\n",
    "\n",
    "#去掉线框\n",
    "for key,spine in ax.spines.items():\n",
    "    spine.set_visible(False)\n",
    "    \n",
    "#去掉锯齿\n",
    "ax.tick_params(bottom=\"off\",top=\"off\",left=\"off\",right=\"off\")\n",
    "\n",
    "#在某些地方添加文字\n",
    "ax.text(1.5,4,\"addText\")\n",
    "\n",
    "plt.show()\n"
   ]
  },
  {
   "cell_type": "code",
   "execution_count": null,
   "metadata": {
    "collapsed": true
   },
   "outputs": [],
   "source": []
  }
 ],
 "metadata": {
  "kernelspec": {
   "display_name": "Python 3",
   "language": "python",
   "name": "python3"
  },
  "language_info": {
   "codemirror_mode": {
    "name": "ipython",
    "version": 3
   },
   "file_extension": ".py",
   "mimetype": "text/x-python",
   "name": "python",
   "nbconvert_exporter": "python",
   "pygments_lexer": "ipython3",
   "version": "3.6.3"
  }
 },
 "nbformat": 4,
 "nbformat_minor": 2
}
