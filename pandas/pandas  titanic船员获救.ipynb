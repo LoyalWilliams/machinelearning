{
 "cells": [
  {
   "cell_type": "code",
   "execution_count": 1,
   "metadata": {},
   "outputs": [
    {
     "data": {
      "text/html": [
       "<div>\n",
       "<style>\n",
       "    .dataframe thead tr:only-child th {\n",
       "        text-align: right;\n",
       "    }\n",
       "\n",
       "    .dataframe thead th {\n",
       "        text-align: left;\n",
       "    }\n",
       "\n",
       "    .dataframe tbody tr th {\n",
       "        vertical-align: top;\n",
       "    }\n",
       "</style>\n",
       "<table border=\"1\" class=\"dataframe\">\n",
       "  <thead>\n",
       "    <tr style=\"text-align: right;\">\n",
       "      <th></th>\n",
       "      <th>PassengerId</th>\n",
       "      <th>Survived</th>\n",
       "      <th>Pclass</th>\n",
       "      <th>Name</th>\n",
       "      <th>Sex</th>\n",
       "      <th>Age</th>\n",
       "      <th>SibSp</th>\n",
       "      <th>Parch</th>\n",
       "      <th>Ticket</th>\n",
       "      <th>Fare</th>\n",
       "      <th>Cabin</th>\n",
       "      <th>Embarked</th>\n",
       "    </tr>\n",
       "  </thead>\n",
       "  <tbody>\n",
       "    <tr>\n",
       "      <th>0</th>\n",
       "      <td>1</td>\n",
       "      <td>0</td>\n",
       "      <td>3</td>\n",
       "      <td>Braund, Mr. Owen Harris</td>\n",
       "      <td>male</td>\n",
       "      <td>22.0</td>\n",
       "      <td>1</td>\n",
       "      <td>0</td>\n",
       "      <td>A/5 21171</td>\n",
       "      <td>7.2500</td>\n",
       "      <td>NaN</td>\n",
       "      <td>S</td>\n",
       "    </tr>\n",
       "    <tr>\n",
       "      <th>1</th>\n",
       "      <td>2</td>\n",
       "      <td>1</td>\n",
       "      <td>1</td>\n",
       "      <td>Cumings, Mrs. John Bradley (Florence Briggs Th...</td>\n",
       "      <td>female</td>\n",
       "      <td>38.0</td>\n",
       "      <td>1</td>\n",
       "      <td>0</td>\n",
       "      <td>PC 17599</td>\n",
       "      <td>71.2833</td>\n",
       "      <td>C85</td>\n",
       "      <td>C</td>\n",
       "    </tr>\n",
       "    <tr>\n",
       "      <th>2</th>\n",
       "      <td>3</td>\n",
       "      <td>1</td>\n",
       "      <td>3</td>\n",
       "      <td>Heikkinen, Miss. Laina</td>\n",
       "      <td>female</td>\n",
       "      <td>26.0</td>\n",
       "      <td>0</td>\n",
       "      <td>0</td>\n",
       "      <td>STON/O2. 3101282</td>\n",
       "      <td>7.9250</td>\n",
       "      <td>NaN</td>\n",
       "      <td>S</td>\n",
       "    </tr>\n",
       "    <tr>\n",
       "      <th>3</th>\n",
       "      <td>4</td>\n",
       "      <td>1</td>\n",
       "      <td>1</td>\n",
       "      <td>Futrelle, Mrs. Jacques Heath (Lily May Peel)</td>\n",
       "      <td>female</td>\n",
       "      <td>35.0</td>\n",
       "      <td>1</td>\n",
       "      <td>0</td>\n",
       "      <td>113803</td>\n",
       "      <td>53.1000</td>\n",
       "      <td>C123</td>\n",
       "      <td>S</td>\n",
       "    </tr>\n",
       "    <tr>\n",
       "      <th>4</th>\n",
       "      <td>5</td>\n",
       "      <td>0</td>\n",
       "      <td>3</td>\n",
       "      <td>Allen, Mr. William Henry</td>\n",
       "      <td>male</td>\n",
       "      <td>35.0</td>\n",
       "      <td>0</td>\n",
       "      <td>0</td>\n",
       "      <td>373450</td>\n",
       "      <td>8.0500</td>\n",
       "      <td>NaN</td>\n",
       "      <td>S</td>\n",
       "    </tr>\n",
       "  </tbody>\n",
       "</table>\n",
       "</div>"
      ],
      "text/plain": [
       "   PassengerId  Survived  Pclass  \\\n",
       "0            1         0       3   \n",
       "1            2         1       1   \n",
       "2            3         1       3   \n",
       "3            4         1       1   \n",
       "4            5         0       3   \n",
       "\n",
       "                                                Name     Sex   Age  SibSp  \\\n",
       "0                            Braund, Mr. Owen Harris    male  22.0      1   \n",
       "1  Cumings, Mrs. John Bradley (Florence Briggs Th...  female  38.0      1   \n",
       "2                             Heikkinen, Miss. Laina  female  26.0      0   \n",
       "3       Futrelle, Mrs. Jacques Heath (Lily May Peel)  female  35.0      1   \n",
       "4                           Allen, Mr. William Henry    male  35.0      0   \n",
       "\n",
       "   Parch            Ticket     Fare Cabin Embarked  \n",
       "0      0         A/5 21171   7.2500   NaN        S  \n",
       "1      0          PC 17599  71.2833   C85        C  \n",
       "2      0  STON/O2. 3101282   7.9250   NaN        S  \n",
       "3      0            113803  53.1000  C123        S  \n",
       "4      0            373450   8.0500   NaN        S  "
      ]
     },
     "execution_count": 1,
     "metadata": {},
     "output_type": "execute_result"
    }
   ],
   "source": [
    "import numpy as np\n",
    "import pandas as pd\n",
    "titanic_survival=pd.read_csv(\"titanic_train.csv\")\n",
    "titanic_survival.head()"
   ]
  },
  {
   "cell_type": "code",
   "execution_count": 2,
   "metadata": {},
   "outputs": [
    {
     "name": "stdout",
     "output_type": "stream",
     "text": [
      "177\n"
     ]
    }
   ],
   "source": [
    "#查看一些基本的信息，比如Age这一列\n",
    "age=titanic_survival[\"Age\"]\n",
    "# print(age.loc[0:10])\n",
    "age_is_null=pd.isnull(age)\n",
    "# print(age_is_null)\n",
    "age_null_true=age[age_is_null]\n",
    "# print(age_null_true)\n",
    "age_null_count=len(age_null_true)\n",
    "print(age_null_count)"
   ]
  },
  {
   "cell_type": "code",
   "execution_count": 3,
   "metadata": {},
   "outputs": [
    {
     "name": "stdout",
     "output_type": "stream",
     "text": [
      "nan\n"
     ]
    }
   ],
   "source": [
    "#如果数据中含有空值，则无法求出平均值等统计指标,结果为nan\n",
    "mean_age=sum(titanic_survival[\"Age\"])/len(titanic_survival[\"Age\"])\n",
    "print(mean_age)"
   ]
  },
  {
   "cell_type": "code",
   "execution_count": 4,
   "metadata": {},
   "outputs": [
    {
     "name": "stdout",
     "output_type": "stream",
     "text": [
      "29.6991176471\n"
     ]
    }
   ],
   "source": [
    "#要求出正确的统计指标，必须先把缺少值筛选掉\n",
    "good_ages=titanic_survival[\"Age\"][age_is_null==False]\n",
    "correct_mean_age=sum(good_ages)/len(good_ages)\n",
    "print(correct_mean_age)"
   ]
  },
  {
   "cell_type": "code",
   "execution_count": 5,
   "metadata": {},
   "outputs": [
    {
     "name": "stdout",
     "output_type": "stream",
     "text": [
      "29.69911764705882\n"
     ]
    }
   ],
   "source": [
    "#padas提供了筛掉空值求均值的方法\n",
    "correct_mean_age=titanic_survival[\"Age\"].mean()\n",
    "print(correct_mean_age)"
   ]
  },
  {
   "cell_type": "code",
   "execution_count": 6,
   "metadata": {},
   "outputs": [
    {
     "name": "stdout",
     "output_type": "stream",
     "text": [
      "{1: 84.15468749999992, 2: 20.66218315217391, 3: 13.675550101832997}\n"
     ]
    }
   ],
   "source": [
    "#求每个船舱等级的价格平均值\n",
    "passenger_classes=[1,2,3]\n",
    "fares_by_class={}\n",
    "for this_class in passenger_classes:\n",
    "    pclass_rows=titanic_survival[titanic_survival[\"Pclass\"]==this_class]\n",
    "    pclass_fares=pclass_rows[\"Fare\"]\n",
    "    fare_for_class=pclass_fares.mean()\n",
    "    fares_by_class[this_class]=fare_for_class\n",
    "print(fares_by_class)"
   ]
  },
  {
   "cell_type": "code",
   "execution_count": 7,
   "metadata": {},
   "outputs": [
    {
     "name": "stdout",
     "output_type": "stream",
     "text": [
      "             Fare\n",
      "Pclass           \n",
      "1       84.154687\n",
      "2       20.662183\n",
      "3       13.675550\n"
     ]
    }
   ],
   "source": [
    "#利用pivot_table分组聚合\n",
    "fares_by_class=titanic_survival.pivot_table(index=\"Pclass\",values=\"Fare\",aggfunc=np.mean)\n",
    "print(fares_by_class)"
   ]
  },
  {
   "cell_type": "code",
   "execution_count": 8,
   "metadata": {},
   "outputs": [
    {
     "name": "stdout",
     "output_type": "stream",
     "text": [
      "              Age\n",
      "Pclass           \n",
      "1       38.233441\n",
      "2       29.877630\n",
      "3       25.140620\n"
     ]
    }
   ],
   "source": [
    "#aggfunc默认求均值\n",
    "passenger_age=titanic_survival.pivot_table(index=\"Pclass\",values=\"Age\")\n",
    "print(passenger_age)"
   ]
  },
  {
   "cell_type": "code",
   "execution_count": 9,
   "metadata": {},
   "outputs": [
    {
     "name": "stdout",
     "output_type": "stream",
     "text": [
      "                Fare  Survived\n",
      "Embarked                      \n",
      "C         10072.2962        93\n",
      "Q          1022.2543        30\n",
      "S         17439.3988       217\n"
     ]
    }
   ],
   "source": [
    "port_stats=titanic_survival.pivot_table(index=\"Embarked\",values=[\"Fare\",\"Survived\"],aggfunc=np.sum)\n",
    "print(port_stats)"
   ]
  },
  {
   "cell_type": "code",
   "execution_count": 10,
   "metadata": {},
   "outputs": [
    {
     "name": "stdout",
     "output_type": "stream",
     "text": [
      "     PassengerId  Survived  Pclass  \\\n",
      "0              1         0       3   \n",
      "1              2         1       1   \n",
      "2              3         1       3   \n",
      "3              4         1       1   \n",
      "4              5         0       3   \n",
      "6              7         0       1   \n",
      "7              8         0       3   \n",
      "8              9         1       3   \n",
      "9             10         1       2   \n",
      "10            11         1       3   \n",
      "11            12         1       1   \n",
      "12            13         0       3   \n",
      "13            14         0       3   \n",
      "14            15         0       3   \n",
      "15            16         1       2   \n",
      "16            17         0       3   \n",
      "18            19         0       3   \n",
      "20            21         0       2   \n",
      "21            22         1       2   \n",
      "22            23         1       3   \n",
      "23            24         1       1   \n",
      "24            25         0       3   \n",
      "25            26         1       3   \n",
      "27            28         0       1   \n",
      "30            31         0       1   \n",
      "33            34         0       2   \n",
      "34            35         0       1   \n",
      "35            36         0       1   \n",
      "37            38         0       3   \n",
      "38            39         0       3   \n",
      "..           ...       ...     ...   \n",
      "856          857         1       1   \n",
      "857          858         1       1   \n",
      "858          859         1       3   \n",
      "860          861         0       3   \n",
      "861          862         0       2   \n",
      "862          863         1       1   \n",
      "864          865         0       2   \n",
      "865          866         1       2   \n",
      "866          867         1       2   \n",
      "867          868         0       1   \n",
      "869          870         1       3   \n",
      "870          871         0       3   \n",
      "871          872         1       1   \n",
      "872          873         0       1   \n",
      "873          874         0       3   \n",
      "874          875         1       2   \n",
      "875          876         1       3   \n",
      "876          877         0       3   \n",
      "877          878         0       3   \n",
      "879          880         1       1   \n",
      "880          881         1       2   \n",
      "881          882         0       3   \n",
      "882          883         0       3   \n",
      "883          884         0       2   \n",
      "884          885         0       3   \n",
      "885          886         0       3   \n",
      "886          887         0       2   \n",
      "887          888         1       1   \n",
      "889          890         1       1   \n",
      "890          891         0       3   \n",
      "\n",
      "                                                  Name     Sex   Age  SibSp  \\\n",
      "0                              Braund, Mr. Owen Harris    male  22.0      1   \n",
      "1    Cumings, Mrs. John Bradley (Florence Briggs Th...  female  38.0      1   \n",
      "2                               Heikkinen, Miss. Laina  female  26.0      0   \n",
      "3         Futrelle, Mrs. Jacques Heath (Lily May Peel)  female  35.0      1   \n",
      "4                             Allen, Mr. William Henry    male  35.0      0   \n",
      "6                              McCarthy, Mr. Timothy J    male  54.0      0   \n",
      "7                       Palsson, Master. Gosta Leonard    male   2.0      3   \n",
      "8    Johnson, Mrs. Oscar W (Elisabeth Vilhelmina Berg)  female  27.0      0   \n",
      "9                  Nasser, Mrs. Nicholas (Adele Achem)  female  14.0      1   \n",
      "10                     Sandstrom, Miss. Marguerite Rut  female   4.0      1   \n",
      "11                            Bonnell, Miss. Elizabeth  female  58.0      0   \n",
      "12                      Saundercock, Mr. William Henry    male  20.0      0   \n",
      "13                         Andersson, Mr. Anders Johan    male  39.0      1   \n",
      "14                Vestrom, Miss. Hulda Amanda Adolfina  female  14.0      0   \n",
      "15                    Hewlett, Mrs. (Mary D Kingcome)   female  55.0      0   \n",
      "16                                Rice, Master. Eugene    male   2.0      4   \n",
      "18   Vander Planke, Mrs. Julius (Emelia Maria Vande...  female  31.0      1   \n",
      "20                                Fynney, Mr. Joseph J    male  35.0      0   \n",
      "21                               Beesley, Mr. Lawrence    male  34.0      0   \n",
      "22                         McGowan, Miss. Anna \"Annie\"  female  15.0      0   \n",
      "23                        Sloper, Mr. William Thompson    male  28.0      0   \n",
      "24                       Palsson, Miss. Torborg Danira  female   8.0      3   \n",
      "25   Asplund, Mrs. Carl Oscar (Selma Augusta Emilia...  female  38.0      1   \n",
      "27                      Fortune, Mr. Charles Alexander    male  19.0      3   \n",
      "30                            Uruchurtu, Don. Manuel E    male  40.0      0   \n",
      "33                               Wheadon, Mr. Edward H    male  66.0      0   \n",
      "34                             Meyer, Mr. Edgar Joseph    male  28.0      1   \n",
      "35                      Holverson, Mr. Alexander Oskar    male  42.0      1   \n",
      "37                            Cann, Mr. Ernest Charles    male  21.0      0   \n",
      "38                  Vander Planke, Miss. Augusta Maria  female  18.0      2   \n",
      "..                                                 ...     ...   ...    ...   \n",
      "856         Wick, Mrs. George Dennick (Mary Hitchcock)  female  45.0      1   \n",
      "857                             Daly, Mr. Peter Denis     male  51.0      0   \n",
      "858              Baclini, Mrs. Solomon (Latifa Qurban)  female  24.0      0   \n",
      "860                            Hansen, Mr. Claus Peter    male  41.0      2   \n",
      "861                        Giles, Mr. Frederick Edward    male  21.0      1   \n",
      "862  Swift, Mrs. Frederick Joel (Margaret Welles Ba...  female  48.0      0   \n",
      "864                             Gill, Mr. John William    male  24.0      0   \n",
      "865                           Bystrom, Mrs. (Karolina)  female  42.0      0   \n",
      "866                       Duran y More, Miss. Asuncion  female  27.0      1   \n",
      "867               Roebling, Mr. Washington Augustus II    male  31.0      0   \n",
      "869                    Johnson, Master. Harold Theodor    male   4.0      1   \n",
      "870                                  Balkic, Mr. Cerin    male  26.0      0   \n",
      "871   Beckwith, Mrs. Richard Leonard (Sallie Monypeny)  female  47.0      1   \n",
      "872                           Carlsson, Mr. Frans Olof    male  33.0      0   \n",
      "873                        Vander Cruyssen, Mr. Victor    male  47.0      0   \n",
      "874              Abelson, Mrs. Samuel (Hannah Wizosky)  female  28.0      1   \n",
      "875                   Najib, Miss. Adele Kiamie \"Jane\"  female  15.0      0   \n",
      "876                      Gustafsson, Mr. Alfred Ossian    male  20.0      0   \n",
      "877                               Petroff, Mr. Nedelio    male  19.0      0   \n",
      "879      Potter, Mrs. Thomas Jr (Lily Alexenia Wilson)  female  56.0      0   \n",
      "880       Shelley, Mrs. William (Imanita Parrish Hall)  female  25.0      0   \n",
      "881                                 Markun, Mr. Johann    male  33.0      0   \n",
      "882                       Dahlberg, Miss. Gerda Ulrika  female  22.0      0   \n",
      "883                      Banfield, Mr. Frederick James    male  28.0      0   \n",
      "884                             Sutehall, Mr. Henry Jr    male  25.0      0   \n",
      "885               Rice, Mrs. William (Margaret Norton)  female  39.0      0   \n",
      "886                              Montvila, Rev. Juozas    male  27.0      0   \n",
      "887                       Graham, Miss. Margaret Edith  female  19.0      0   \n",
      "889                              Behr, Mr. Karl Howell    male  26.0      0   \n",
      "890                                Dooley, Mr. Patrick    male  32.0      0   \n",
      "\n",
      "     Parch            Ticket      Fare        Cabin Embarked  \n",
      "0        0         A/5 21171    7.2500          NaN        S  \n",
      "1        0          PC 17599   71.2833          C85        C  \n",
      "2        0  STON/O2. 3101282    7.9250          NaN        S  \n",
      "3        0            113803   53.1000         C123        S  \n",
      "4        0            373450    8.0500          NaN        S  \n",
      "6        0             17463   51.8625          E46        S  \n",
      "7        1            349909   21.0750          NaN        S  \n",
      "8        2            347742   11.1333          NaN        S  \n",
      "9        0            237736   30.0708          NaN        C  \n",
      "10       1           PP 9549   16.7000           G6        S  \n",
      "11       0            113783   26.5500         C103        S  \n",
      "12       0         A/5. 2151    8.0500          NaN        S  \n",
      "13       5            347082   31.2750          NaN        S  \n",
      "14       0            350406    7.8542          NaN        S  \n",
      "15       0            248706   16.0000          NaN        S  \n",
      "16       1            382652   29.1250          NaN        Q  \n",
      "18       0            345763   18.0000          NaN        S  \n",
      "20       0            239865   26.0000          NaN        S  \n",
      "21       0            248698   13.0000          D56        S  \n",
      "22       0            330923    8.0292          NaN        Q  \n",
      "23       0            113788   35.5000           A6        S  \n",
      "24       1            349909   21.0750          NaN        S  \n",
      "25       5            347077   31.3875          NaN        S  \n",
      "27       2             19950  263.0000  C23 C25 C27        S  \n",
      "30       0          PC 17601   27.7208          NaN        C  \n",
      "33       0        C.A. 24579   10.5000          NaN        S  \n",
      "34       0          PC 17604   82.1708          NaN        C  \n",
      "35       0            113789   52.0000          NaN        S  \n",
      "37       0        A./5. 2152    8.0500          NaN        S  \n",
      "38       0            345764   18.0000          NaN        S  \n",
      "..     ...               ...       ...          ...      ...  \n",
      "856      1             36928  164.8667          NaN        S  \n",
      "857      0            113055   26.5500          E17        S  \n",
      "858      3              2666   19.2583          NaN        C  \n",
      "860      0            350026   14.1083          NaN        S  \n",
      "861      0             28134   11.5000          NaN        S  \n",
      "862      0             17466   25.9292          D17        S  \n",
      "864      0            233866   13.0000          NaN        S  \n",
      "865      0            236852   13.0000          NaN        S  \n",
      "866      0     SC/PARIS 2149   13.8583          NaN        C  \n",
      "867      0          PC 17590   50.4958          A24        S  \n",
      "869      1            347742   11.1333          NaN        S  \n",
      "870      0            349248    7.8958          NaN        S  \n",
      "871      1             11751   52.5542          D35        S  \n",
      "872      0               695    5.0000  B51 B53 B55        S  \n",
      "873      0            345765    9.0000          NaN        S  \n",
      "874      0         P/PP 3381   24.0000          NaN        C  \n",
      "875      0              2667    7.2250          NaN        C  \n",
      "876      0              7534    9.8458          NaN        S  \n",
      "877      0            349212    7.8958          NaN        S  \n",
      "879      1             11767   83.1583          C50        C  \n",
      "880      1            230433   26.0000          NaN        S  \n",
      "881      0            349257    7.8958          NaN        S  \n",
      "882      0              7552   10.5167          NaN        S  \n",
      "883      0  C.A./SOTON 34068   10.5000          NaN        S  \n",
      "884      0   SOTON/OQ 392076    7.0500          NaN        S  \n",
      "885      5            382652   29.1250          NaN        Q  \n",
      "886      0            211536   13.0000          NaN        S  \n",
      "887      0            112053   30.0000          B42        S  \n",
      "889      0            111369   30.0000         C148        C  \n",
      "890      0            370376    7.7500          NaN        Q  \n",
      "\n",
      "[714 rows x 12 columns]\n"
     ]
    }
   ],
   "source": [
    "#specifying axis=1 or(否则) axis='columns' will drop any columns that have null values\n",
    "drop_na_columns=titanic_survival.dropna(axis=1)\n",
    "new_titanic_survival=titanic_survival.dropna(axis=0,subset=[\"Age\",\"Sex\"])\n",
    "print(new_titanic_survival)"
   ]
  },
  {
   "cell_type": "code",
   "execution_count": 11,
   "metadata": {},
   "outputs": [
    {
     "name": "stdout",
     "output_type": "stream",
     "text": [
      "28.0\n",
      "1\n"
     ]
    }
   ],
   "source": [
    "#通过索引找值\n",
    "row_index_83_age=titanic_survival.loc[83,\"Age\"]\n",
    "row_index_1000_pclass=titanic_survival.loc[766,\"Pclass\"]\n",
    "print(row_index_83_age)\n",
    "print(row_index_1000_pclass)"
   ]
  },
  {
   "cell_type": "code",
   "execution_count": 12,
   "metadata": {
    "scrolled": true
   },
   "outputs": [
    {
     "name": "stdout",
     "output_type": "stream",
     "text": [
      "     PassengerId  Survived  Pclass                                  Name  \\\n",
      "630          631         1       1  Barkworth, Mr. Algernon Henry Wilson   \n",
      "851          852         0       3                   Svensson, Mr. Johan   \n",
      "493          494         0       1               Artagaveytia, Mr. Ramon   \n",
      "96            97         0       1             Goldschmidt, Mr. George B   \n",
      "116          117         0       3                  Connors, Mr. Patrick   \n",
      "672          673         0       2           Mitchell, Mr. Henry Michael   \n",
      "745          746         0       1          Crosby, Capt. Edward Gifford   \n",
      "33            34         0       2                 Wheadon, Mr. Edward H   \n",
      "54            55         0       1        Ostby, Mr. Engelhart Cornelius   \n",
      "280          281         0       3                      Duane, Mr. Frank   \n",
      "\n",
      "      Sex   Age  SibSp  Parch      Ticket     Fare Cabin Embarked  \n",
      "630  male  80.0      0      0       27042  30.0000   A23        S  \n",
      "851  male  74.0      0      0      347060   7.7750   NaN        S  \n",
      "493  male  71.0      0      0    PC 17609  49.5042   NaN        C  \n",
      "96   male  71.0      0      0    PC 17754  34.6542    A5        C  \n",
      "116  male  70.5      0      0      370369   7.7500   NaN        Q  \n",
      "672  male  70.0      0      0  C.A. 24580  10.5000   NaN        S  \n",
      "745  male  70.0      1      1   WE/P 5735  71.0000   B22        S  \n",
      "33   male  66.0      0      0  C.A. 24579  10.5000   NaN        S  \n",
      "54   male  65.0      0      1      113509  61.9792   B30        C  \n",
      "280  male  65.0      0      0      336439   7.7500   NaN        Q  \n",
      "---------------\n",
      "    PassengerId  Survived  Pclass                                  Name   Sex  \\\n",
      "0           631         1       1  Barkworth, Mr. Algernon Henry Wilson  male   \n",
      "1           852         0       3                   Svensson, Mr. Johan  male   \n",
      "2           494         0       1               Artagaveytia, Mr. Ramon  male   \n",
      "3            97         0       1             Goldschmidt, Mr. George B  male   \n",
      "4           117         0       3                  Connors, Mr. Patrick  male   \n",
      "5           673         0       2           Mitchell, Mr. Henry Michael  male   \n",
      "6           746         0       1          Crosby, Capt. Edward Gifford  male   \n",
      "7            34         0       2                 Wheadon, Mr. Edward H  male   \n",
      "8            55         0       1        Ostby, Mr. Engelhart Cornelius  male   \n",
      "9           281         0       3                      Duane, Mr. Frank  male   \n",
      "10          457         0       1             Millet, Mr. Francis Davis  male   \n",
      "\n",
      "     Age  SibSp  Parch      Ticket     Fare Cabin Embarked  \n",
      "0   80.0      0      0       27042  30.0000   A23        S  \n",
      "1   74.0      0      0      347060   7.7750   NaN        S  \n",
      "2   71.0      0      0    PC 17609  49.5042   NaN        C  \n",
      "3   71.0      0      0    PC 17754  34.6542    A5        C  \n",
      "4   70.5      0      0      370369   7.7500   NaN        Q  \n",
      "5   70.0      0      0  C.A. 24580  10.5000   NaN        S  \n",
      "6   70.0      1      1   WE/P 5735  71.0000   B22        S  \n",
      "7   66.0      0      0  C.A. 24579  10.5000   NaN        S  \n",
      "8   65.0      0      1      113509  61.9792   B30        C  \n",
      "9   65.0      0      0      336439   7.7500   NaN        Q  \n",
      "10  65.0      0      0       13509  26.5500   E38        S  \n"
     ]
    }
   ],
   "source": [
    "#排序，重新设置索引\n",
    "new_titanic_survival=titanic_survival.sort_values(\"Age\",ascending=False)\n",
    "print(new_titanic_survival[0:10])\n",
    "titanic_reindexed=new_titanic_survival.reset_index(drop=True)\n",
    "print(\"---------------\")\n",
    "print(titanic_reindexed.loc[0:10])"
   ]
  },
  {
   "cell_type": "code",
   "execution_count": 13,
   "metadata": {},
   "outputs": [
    {
     "name": "stdout",
     "output_type": "stream",
     "text": [
      "PassengerId                  100\n",
      "Survived                       0\n",
      "Pclass                         2\n",
      "Name           Kantor, Mr. Sinai\n",
      "Sex                         male\n",
      "Age                           34\n",
      "SibSp                          1\n",
      "Parch                          0\n",
      "Ticket                    244367\n",
      "Fare                          26\n",
      "Cabin                        NaN\n",
      "Embarked                       S\n",
      "dtype: object\n"
     ]
    }
   ],
   "source": [
    "#自定义函数\n",
    "def hundredth_row(column):\n",
    "    #取出第100行的数据\n",
    "    hundredth_item=column.loc[99]\n",
    "    return hundredth_item\n",
    "hundredth_row_data=titanic_survival.apply(hundredth_row)\n",
    "print(hundredth_row_data)"
   ]
  },
  {
   "cell_type": "code",
   "execution_count": 20,
   "metadata": {},
   "outputs": [
    {
     "data": {
      "text/plain": [
       "PassengerId      0\n",
       "Survived         0\n",
       "Pclass           0\n",
       "Name             0\n",
       "Sex              0\n",
       "Age            177\n",
       "SibSp            0\n",
       "Parch            0\n",
       "Ticket           0\n",
       "Fare             0\n",
       "Cabin          687\n",
       "Embarked         2\n",
       "dtype: int64"
      ]
     },
     "execution_count": 20,
     "metadata": {},
     "output_type": "execute_result"
    }
   ],
   "source": [
    "#求每个列的缺失指标格式\n",
    "def not_null_count(column):\n",
    "    column_null=pd.isnull(column)\n",
    "    null=column[column_null]\n",
    "    return len(null)\n",
    "# column_null=pd.isnull(titanic_survival)\n",
    "# titanic_survival[column_null]\n",
    "# column_null\n",
    "# len(titanic_survival[column_null])\n",
    "column_null_count=titanic_survival.apply(not_null_count)\n",
    "column_null_count\n",
    "# print(column_null_count)"
   ]
  },
  {
   "cell_type": "code",
   "execution_count": 16,
   "metadata": {},
   "outputs": [
    {
     "name": "stdout",
     "output_type": "stream",
     "text": [
      "0       Third Class\n",
      "1       First Class\n",
      "2       Third Class\n",
      "3       First Class\n",
      "4       Third Class\n",
      "5       Third Class\n",
      "6       First Class\n",
      "7       Third Class\n",
      "8       Third Class\n",
      "9      Second Class\n",
      "10      Third Class\n",
      "11      First Class\n",
      "12      Third Class\n",
      "13      Third Class\n",
      "14      Third Class\n",
      "15     Second Class\n",
      "16      Third Class\n",
      "17     Second Class\n",
      "18      Third Class\n",
      "19      Third Class\n",
      "20     Second Class\n",
      "21     Second Class\n",
      "22      Third Class\n",
      "23      First Class\n",
      "24      Third Class\n",
      "25      Third Class\n",
      "26      Third Class\n",
      "27      First Class\n",
      "28      Third Class\n",
      "29      Third Class\n",
      "           ...     \n",
      "861    Second Class\n",
      "862     First Class\n",
      "863     Third Class\n",
      "864    Second Class\n",
      "865    Second Class\n",
      "866    Second Class\n",
      "867     First Class\n",
      "868     Third Class\n",
      "869     Third Class\n",
      "870     Third Class\n",
      "871     First Class\n",
      "872     First Class\n",
      "873     Third Class\n",
      "874    Second Class\n",
      "875     Third Class\n",
      "876     Third Class\n",
      "877     Third Class\n",
      "878     Third Class\n",
      "879     First Class\n",
      "880    Second Class\n",
      "881     Third Class\n",
      "882     Third Class\n",
      "883    Second Class\n",
      "884     Third Class\n",
      "885     Third Class\n",
      "886    Second Class\n",
      "887     First Class\n",
      "888     Third Class\n",
      "889     First Class\n",
      "890     Third Class\n",
      "Length: 891, dtype: object\n"
     ]
    }
   ],
   "source": [
    "#通过axis=1这个参数，我们可以使用DataFrame.apply（）方法来迭代每行的数据,进行转换\n",
    "def which_class(row):\n",
    "    pclass=row['Pclass']\n",
    "    if pd.isnull(pclass):\n",
    "        return \"Unknown\"\n",
    "    elif pclass == 1:\n",
    "        return \"First Class\"\n",
    "    elif pclass == 2:\n",
    "        return \"Second Class\"\n",
    "    elif pclass == 3:\n",
    "        return \"Third Class\"\n",
    "    \n",
    "classes=titanic_survival.apply(which_class,axis=1)\n",
    "print(classes)"
   ]
  },
  {
   "cell_type": "code",
   "execution_count": 18,
   "metadata": {
    "scrolled": true
   },
   "outputs": [
    {
     "name": "stdout",
     "output_type": "stream",
     "text": [
      "0        adult\n",
      "1        adult\n",
      "2        adult\n",
      "3        adult\n",
      "4        adult\n",
      "5      unknown\n",
      "6        adult\n",
      "7        minor\n",
      "8        adult\n",
      "9        minor\n",
      "10       minor\n",
      "11       adult\n",
      "12       adult\n",
      "13       adult\n",
      "14       minor\n",
      "15       adult\n",
      "16       minor\n",
      "17     unknown\n",
      "18       adult\n",
      "19     unknown\n",
      "20       adult\n",
      "21       adult\n",
      "22       minor\n",
      "23       adult\n",
      "24       minor\n",
      "25       adult\n",
      "26     unknown\n",
      "27       adult\n",
      "28     unknown\n",
      "29     unknown\n",
      "        ...   \n",
      "861      adult\n",
      "862      adult\n",
      "863    unknown\n",
      "864      adult\n",
      "865      adult\n",
      "866      adult\n",
      "867      adult\n",
      "868    unknown\n",
      "869      minor\n",
      "870      adult\n",
      "871      adult\n",
      "872      adult\n",
      "873      adult\n",
      "874      adult\n",
      "875      minor\n",
      "876      adult\n",
      "877      adult\n",
      "878    unknown\n",
      "879      adult\n",
      "880      adult\n",
      "881      adult\n",
      "882      adult\n",
      "883      adult\n",
      "884      adult\n",
      "885      adult\n",
      "886      adult\n",
      "887      adult\n",
      "888    unknown\n",
      "889      adult\n",
      "890      adult\n",
      "Length: 891, dtype: object\n"
     ]
    }
   ],
   "source": [
    "def is_minor(row):\n",
    "    if row[\"Age\"]<18:\n",
    "        return True\n",
    "    else:\n",
    "        return False\n",
    "minors=titanic_survival.apply(is_minor,axis=1)\n",
    "# print(minors)dsffd\n",
    "def generate_age_label(row):\n",
    "    age=row[\"Age\"]\n",
    "    if pd.isnull(age):\n",
    "        return \"unknown\"\n",
    "    elif age<18:\n",
    "        return \"minor\"\n",
    "    else:\n",
    "        return \"adult\"\n",
    "    \n",
    "age_labels=titanic_survival.apply(generate_age_label,axis=1)\n",
    "print(age_labels)"
   ]
  },
  {
   "cell_type": "code",
   "execution_count": 19,
   "metadata": {},
   "outputs": [
    {
     "name": "stdout",
     "output_type": "stream",
     "text": [
      "            Survived\n",
      "age_labels          \n",
      "adult       0.381032\n",
      "minor       0.539823\n",
      "unknown     0.293785\n"
     ]
    }
   ],
   "source": [
    "#获救的平均值\n",
    "titanic_survival['age_labels']=age_labels\n",
    "age_group_survival=titanic_survival.pivot_table(index=\"age_labels\",values=\"Survived\")\n",
    "print(age_group_survival)"
   ]
  },
  {
   "cell_type": "code",
   "execution_count": null,
   "metadata": {
    "collapsed": true
   },
   "outputs": [],
   "source": []
  }
 ],
 "metadata": {
  "kernelspec": {
   "display_name": "Python 3",
   "language": "python",
   "name": "python3"
  },
  "language_info": {
   "codemirror_mode": {
    "name": "ipython",
    "version": 3
   },
   "file_extension": ".py",
   "mimetype": "text/x-python",
   "name": "python",
   "nbconvert_exporter": "python",
   "pygments_lexer": "ipython3",
   "version": "3.6.3"
  }
 },
 "nbformat": 4,
 "nbformat_minor": 2
}
