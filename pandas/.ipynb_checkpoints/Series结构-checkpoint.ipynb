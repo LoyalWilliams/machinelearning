{
 "cells": [
  {
   "cell_type": "code",
   "execution_count": 10,
   "metadata": {},
   "outputs": [
    {
     "name": "stdout",
     "output_type": "stream",
     "text": [
      "<class 'pandas.core.series.Series'>\n",
      "0     7.2500\n",
      "1    71.2833\n",
      "2     7.9250\n",
      "3    53.1000\n",
      "4     8.0500\n",
      "Name: Fare, dtype: float64\n",
      "0                              Braund, Mr. Owen Harris\n",
      "1    Cumings, Mrs. John Bradley (Florence Briggs Th...\n",
      "2                               Heikkinen, Miss. Laina\n",
      "3         Futrelle, Mrs. Jacques Heath (Lily May Peel)\n",
      "4                             Allen, Mr. William Henry\n",
      "Name: Name, dtype: object\n"
     ]
    }
   ],
   "source": [
    "#DataFrame由Series构成，Series由ndarray构成\n",
    "import pandas as pd\n",
    "titanic_survival=pd.read_csv(\"titanic_train.csv\")\n",
    "series_fare=titanic_survival['Fare']\n",
    "print(type(series_fare))\n",
    "print(series_fare[0:5])\n",
    "series_name=titanic_survival[\"Name\"]\n",
    "print(series_name[0:5])"
   ]
  },
  {
   "cell_type": "raw",
   "metadata": {},
   "source": []
  },
  {
   "cell_type": "code",
   "execution_count": 12,
   "metadata": {
    "scrolled": true
   },
   "outputs": [
    {
     "name": "stdout",
     "output_type": "stream",
     "text": [
      "Braund, Mr. Owen Harris                                        7.2500\n",
      "Cumings, Mrs. John Bradley (Florence Briggs Thayer)           71.2833\n",
      "Heikkinen, Miss. Laina                                         7.9250\n",
      "Futrelle, Mrs. Jacques Heath (Lily May Peel)                  53.1000\n",
      "Allen, Mr. William Henry                                       8.0500\n",
      "Moran, Mr. James                                               8.4583\n",
      "McCarthy, Mr. Timothy J                                       51.8625\n",
      "Palsson, Master. Gosta Leonard                                21.0750\n",
      "Johnson, Mrs. Oscar W (Elisabeth Vilhelmina Berg)             11.1333\n",
      "Nasser, Mrs. Nicholas (Adele Achem)                           30.0708\n",
      "Sandstrom, Miss. Marguerite Rut                               16.7000\n",
      "Bonnell, Miss. Elizabeth                                      26.5500\n",
      "Saundercock, Mr. William Henry                                 8.0500\n",
      "Andersson, Mr. Anders Johan                                   31.2750\n",
      "Vestrom, Miss. Hulda Amanda Adolfina                           7.8542\n",
      "Hewlett, Mrs. (Mary D Kingcome)                               16.0000\n",
      "Rice, Master. Eugene                                          29.1250\n",
      "Williams, Mr. Charles Eugene                                  13.0000\n",
      "Vander Planke, Mrs. Julius (Emelia Maria Vandemoortele)       18.0000\n",
      "Masselmani, Mrs. Fatima                                        7.2250\n",
      "Fynney, Mr. Joseph J                                          26.0000\n",
      "Beesley, Mr. Lawrence                                         13.0000\n",
      "McGowan, Miss. Anna \"Annie\"                                    8.0292\n",
      "Sloper, Mr. William Thompson                                  35.5000\n",
      "Palsson, Miss. Torborg Danira                                 21.0750\n",
      "Asplund, Mrs. Carl Oscar (Selma Augusta Emilia Johansson)     31.3875\n",
      "Emir, Mr. Farred Chehab                                        7.2250\n",
      "Fortune, Mr. Charles Alexander                               263.0000\n",
      "O'Dwyer, Miss. Ellen \"Nellie\"                                  7.8792\n",
      "Todoroff, Mr. Lalio                                            7.8958\n",
      "                                                               ...   \n",
      "Giles, Mr. Frederick Edward                                   11.5000\n",
      "Swift, Mrs. Frederick Joel (Margaret Welles Barron)           25.9292\n",
      "Sage, Miss. Dorothy Edith \"Dolly\"                             69.5500\n",
      "Gill, Mr. John William                                        13.0000\n",
      "Bystrom, Mrs. (Karolina)                                      13.0000\n",
      "Duran y More, Miss. Asuncion                                  13.8583\n",
      "Roebling, Mr. Washington Augustus II                          50.4958\n",
      "van Melkebeke, Mr. Philemon                                    9.5000\n",
      "Johnson, Master. Harold Theodor                               11.1333\n",
      "Balkic, Mr. Cerin                                              7.8958\n",
      "Beckwith, Mrs. Richard Leonard (Sallie Monypeny)              52.5542\n",
      "Carlsson, Mr. Frans Olof                                       5.0000\n",
      "Vander Cruyssen, Mr. Victor                                    9.0000\n",
      "Abelson, Mrs. Samuel (Hannah Wizosky)                         24.0000\n",
      "Najib, Miss. Adele Kiamie \"Jane\"                               7.2250\n",
      "Gustafsson, Mr. Alfred Ossian                                  9.8458\n",
      "Petroff, Mr. Nedelio                                           7.8958\n",
      "Laleff, Mr. Kristo                                             7.8958\n",
      "Potter, Mrs. Thomas Jr (Lily Alexenia Wilson)                 83.1583\n",
      "Shelley, Mrs. William (Imanita Parrish Hall)                  26.0000\n",
      "Markun, Mr. Johann                                             7.8958\n",
      "Dahlberg, Miss. Gerda Ulrika                                  10.5167\n",
      "Banfield, Mr. Frederick James                                 10.5000\n",
      "Sutehall, Mr. Henry Jr                                         7.0500\n",
      "Rice, Mrs. William (Margaret Norton)                          29.1250\n",
      "Montvila, Rev. Juozas                                         13.0000\n",
      "Graham, Miss. Margaret Edith                                  30.0000\n",
      "Johnston, Miss. Catherine Helen \"Carrie\"                      23.4500\n",
      "Behr, Mr. Karl Howell                                         30.0000\n",
      "Dooley, Mr. Patrick                                            7.7500\n",
      "Length: 891, dtype: float64\n"
     ]
    }
   ],
   "source": [
    "#自己构造一个Series\n",
    "from pandas import Series\n",
    "fare_values=series_fare.values\n",
    "name=titanic_survival[\"Name\"]\n",
    "name_values=name.values\n",
    "# print(type(fare_values))\n",
    "# print(fare_values)\n",
    "name_fare=Series(fare_values,index=name_values)\n",
    "print(name_fare)"
   ]
  },
  {
   "cell_type": "code",
   "execution_count": 22,
   "metadata": {},
   "outputs": [
    {
     "name": "stdout",
     "output_type": "stream",
     "text": [
      "0     14.5000\n",
      "1    142.5666\n",
      "2     15.8500\n",
      "3    106.2000\n",
      "4     16.1000\n",
      "Name: Fare, dtype: float64\n",
      "-------------\n",
      "0     7.2500\n",
      "1    71.2833\n",
      "2     7.9250\n",
      "3    53.1000\n",
      "4     8.0500\n",
      "Name: Fare, dtype: float64\n",
      "-------------\n",
      "0    0.823081\n",
      "1    0.826764\n",
      "2    0.997479\n",
      "3    0.302272\n",
      "4    0.980850\n",
      "Name: Fare, dtype: float64\n",
      "-----------\n",
      "512.3292\n"
     ]
    }
   ],
   "source": [
    "import numpy as np\n",
    "print(np.add(series_fare,series_fare).head())\n",
    "print(\"-------------\")\n",
    "print(series_fare.head())\n",
    "print(\"-------------\")\n",
    "print(np.sin(series_fare).head())\n",
    "print(\"-----------\")\n",
    "print(np.max(series_fare))"
   ]
  },
  {
   "cell_type": "code",
   "execution_count": 23,
   "metadata": {},
   "outputs": [
    {
     "name": "stdout",
     "output_type": "stream",
     "text": [
      "Name\n",
      "Braund, Mr. Owen Harris                                        7.2500\n",
      "Cumings, Mrs. John Bradley (Florence Briggs Thayer)           71.2833\n",
      "Heikkinen, Miss. Laina                                         7.9250\n",
      "Futrelle, Mrs. Jacques Heath (Lily May Peel)                  53.1000\n",
      "Allen, Mr. William Henry                                       8.0500\n",
      "Moran, Mr. James                                               8.4583\n",
      "McCarthy, Mr. Timothy J                                       51.8625\n",
      "Palsson, Master. Gosta Leonard                                21.0750\n",
      "Johnson, Mrs. Oscar W (Elisabeth Vilhelmina Berg)             11.1333\n",
      "Nasser, Mrs. Nicholas (Adele Achem)                           30.0708\n",
      "Sandstrom, Miss. Marguerite Rut                               16.7000\n",
      "Bonnell, Miss. Elizabeth                                      26.5500\n",
      "Saundercock, Mr. William Henry                                 8.0500\n",
      "Andersson, Mr. Anders Johan                                   31.2750\n",
      "Vestrom, Miss. Hulda Amanda Adolfina                           7.8542\n",
      "Hewlett, Mrs. (Mary D Kingcome)                               16.0000\n",
      "Rice, Master. Eugene                                          29.1250\n",
      "Williams, Mr. Charles Eugene                                  13.0000\n",
      "Vander Planke, Mrs. Julius (Emelia Maria Vandemoortele)       18.0000\n",
      "Masselmani, Mrs. Fatima                                        7.2250\n",
      "Fynney, Mr. Joseph J                                          26.0000\n",
      "Beesley, Mr. Lawrence                                         13.0000\n",
      "McGowan, Miss. Anna \"Annie\"                                    8.0292\n",
      "Sloper, Mr. William Thompson                                  35.5000\n",
      "Palsson, Miss. Torborg Danira                                 21.0750\n",
      "Asplund, Mrs. Carl Oscar (Selma Augusta Emilia Johansson)     31.3875\n",
      "Emir, Mr. Farred Chehab                                        7.2250\n",
      "Fortune, Mr. Charles Alexander                               263.0000\n",
      "O'Dwyer, Miss. Ellen \"Nellie\"                                  7.8792\n",
      "Todoroff, Mr. Lalio                                            7.8958\n",
      "                                                               ...   \n",
      "Giles, Mr. Frederick Edward                                   11.5000\n",
      "Swift, Mrs. Frederick Joel (Margaret Welles Barron)           25.9292\n",
      "Sage, Miss. Dorothy Edith \"Dolly\"                             69.5500\n",
      "Gill, Mr. John William                                        13.0000\n",
      "Bystrom, Mrs. (Karolina)                                      13.0000\n",
      "Duran y More, Miss. Asuncion                                  13.8583\n",
      "Roebling, Mr. Washington Augustus II                          50.4958\n",
      "van Melkebeke, Mr. Philemon                                    9.5000\n",
      "Johnson, Master. Harold Theodor                               11.1333\n",
      "Balkic, Mr. Cerin                                              7.8958\n",
      "Beckwith, Mrs. Richard Leonard (Sallie Monypeny)              52.5542\n",
      "Carlsson, Mr. Frans Olof                                       5.0000\n",
      "Vander Cruyssen, Mr. Victor                                    9.0000\n",
      "Abelson, Mrs. Samuel (Hannah Wizosky)                         24.0000\n",
      "Najib, Miss. Adele Kiamie \"Jane\"                               7.2250\n",
      "Gustafsson, Mr. Alfred Ossian                                  9.8458\n",
      "Petroff, Mr. Nedelio                                           7.8958\n",
      "Laleff, Mr. Kristo                                             7.8958\n",
      "Potter, Mrs. Thomas Jr (Lily Alexenia Wilson)                 83.1583\n",
      "Shelley, Mrs. William (Imanita Parrish Hall)                  26.0000\n",
      "Markun, Mr. Johann                                             7.8958\n",
      "Dahlberg, Miss. Gerda Ulrika                                  10.5167\n",
      "Banfield, Mr. Frederick James                                 10.5000\n",
      "Sutehall, Mr. Henry Jr                                         7.0500\n",
      "Rice, Mrs. William (Margaret Norton)                          29.1250\n",
      "Montvila, Rev. Juozas                                         13.0000\n",
      "Graham, Miss. Margaret Edith                                  30.0000\n",
      "Johnston, Miss. Catherine Helen \"Carrie\"                      23.4500\n",
      "Behr, Mr. Karl Howell                                         30.0000\n",
      "Dooley, Mr. Patrick                                            7.7500\n",
      "Length: 891, dtype: float64\n"
     ]
    }
   ],
   "source": [
    "#Series的加法\n",
    "fare=Series(titanic_survival[\"Fare\"].values,index=titanic_survival[\"Name\"])\n",
    "fare_mean=(fare+fare)/2\n",
    "print(fare_mean)"
   ]
  },
  {
   "cell_type": "code",
   "execution_count": 29,
   "metadata": {},
   "outputs": [
    {
     "name": "stdout",
     "output_type": "stream",
     "text": [
      "PassengerId                          1\n",
      "Survived                             0\n",
      "Pclass                               3\n",
      "Name           Braund, Mr. Owen Harris\n",
      "Sex                               male\n",
      "Age                                 22\n",
      "SibSp                                1\n",
      "Parch                                0\n",
      "Ticket                       A/5 21171\n",
      "Fare                              7.25\n",
      "Cabin                              NaN\n",
      "Embarked                             S\n",
      "Name: Braund, Mr. Owen Harris, dtype: object\n"
     ]
    }
   ],
   "source": [
    "titanic_survival=pd.read_csv(\"titanic_train.csv\")\n",
    "# series_fare=titanic_survival['Fare']\n",
    "name_ind_titanic=titanic_survival.set_index(\"Name\",drop=False)\n",
    "# print(name_ind_titanic.head())\n",
    "print(name_ind_titanic.loc[\"Braund, Mr. Owen Harris\"])"
   ]
  },
  {
   "cell_type": "code",
   "execution_count": 49,
   "metadata": {},
   "outputs": [
    {
     "name": "stdout",
     "output_type": "stream",
     "text": [
      "PassengerId      int64\n",
      "Survived         int64\n",
      "Pclass           int64\n",
      "Name            object\n",
      "Sex             object\n",
      "Age            float64\n",
      "SibSp            int64\n",
      "Parch            int64\n",
      "Ticket          object\n",
      "Fare           float64\n",
      "Cabin           object\n",
      "Embarked        object\n",
      "dtype: object\n",
      "Age     14.516321\n",
      "Fare    49.665534\n",
      "dtype: float64\n"
     ]
    }
   ],
   "source": [
    "#先求类型为float64所在的列，然后求这些列的标准差\n",
    "types=titanic_survival.dtypes\n",
    "# print(types)\n",
    "float_columns=types[types.values == 'float64'].index\n",
    "# print(float_columns)\n",
    "float_df=titanic_survival[float_columns]\n",
    "# print(float_df)\n",
    "#np.std求标准差\n",
    "deviations=float_df.apply(lambda x:np.std(x))\n",
    "print(deviations)"
   ]
  },
  {
   "cell_type": "code",
   "execution_count": null,
   "metadata": {
    "collapsed": true
   },
   "outputs": [],
   "source": []
  }
 ],
 "metadata": {
  "kernelspec": {
   "display_name": "Python 3",
   "language": "python",
   "name": "python3"
  },
  "language_info": {
   "codemirror_mode": {
    "name": "ipython",
    "version": 3
   },
   "file_extension": ".py",
   "mimetype": "text/x-python",
   "name": "python",
   "nbconvert_exporter": "python",
   "pygments_lexer": "ipython3",
   "version": "3.6.3"
  }
 },
 "nbformat": 4,
 "nbformat_minor": 2
}
